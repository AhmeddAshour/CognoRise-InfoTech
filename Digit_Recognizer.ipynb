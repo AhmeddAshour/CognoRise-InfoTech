{
  "nbformat": 4,
  "nbformat_minor": 0,
  "metadata": {
    "colab": {
      "provenance": [],
      "gpuType": "T4"
    },
    "kernelspec": {
      "name": "python3",
      "display_name": "Python 3"
    },
    "language_info": {
      "name": "python"
    },
    "accelerator": "GPU"
  },
  "cells": [
    {
      "cell_type": "markdown",
      "source": [
        "# Import Necessary Libraries"
      ],
      "metadata": {
        "id": "IZuP-tyYoRXP"
      }
    },
    {
      "cell_type": "code",
      "execution_count": 1,
      "metadata": {
        "id": "LK_OmkKBoJkc"
      },
      "outputs": [],
      "source": [
        "# Import libraries\n",
        "import pandas as pd\n",
        "import numpy as np\n",
        "import tensorflow as tf\n",
        "from tensorflow.keras import layers, models\n",
        "import matplotlib.pyplot as plt"
      ]
    },
    {
      "cell_type": "markdown",
      "source": [
        "# Load and Preprocess the Dataset"
      ],
      "metadata": {
        "id": "sgBcNo7QojVe"
      }
    },
    {
      "cell_type": "code",
      "source": [
        "! mkdir ~/.kaggle\n",
        "!cp kaggle.json ~/.kaggle\n",
        "! chmod 600 ~/.kaggle/kaggle.json"
      ],
      "metadata": {
        "colab": {
          "base_uri": "https://localhost:8080/"
        },
        "id": "33Nov8Z9oUbR",
        "outputId": "a2320f41-3ac6-4622-f74d-73e61135f8f1"
      },
      "execution_count": 3,
      "outputs": [
        {
          "output_type": "stream",
          "name": "stdout",
          "text": [
            "mkdir: cannot create directory ‘/root/.kaggle’: File exists\n"
          ]
        }
      ]
    },
    {
      "cell_type": "code",
      "source": [
        "!kaggle datasets download -d animatronbot/mnist-digit-recognizer"
      ],
      "metadata": {
        "colab": {
          "base_uri": "https://localhost:8080/"
        },
        "id": "uAoMft-0o_4R",
        "outputId": "53f35f7a-4851-4c2d-d9b8-2e9b795ac461"
      },
      "execution_count": 4,
      "outputs": [
        {
          "output_type": "stream",
          "name": "stdout",
          "text": [
            "Dataset URL: https://www.kaggle.com/datasets/animatronbot/mnist-digit-recognizer\n",
            "License(s): CC0-1.0\n",
            "Downloading mnist-digit-recognizer.zip to /content\n",
            " 76% 7.00M/9.16M [00:01<00:00, 8.08MB/s]\n",
            "100% 9.16M/9.16M [00:01<00:00, 6.13MB/s]\n"
          ]
        }
      ]
    },
    {
      "cell_type": "code",
      "source": [
        "!unzip /content/mnist-digit-recognizer.zip"
      ],
      "metadata": {
        "colab": {
          "base_uri": "https://localhost:8080/"
        },
        "id": "wipzhDCApEur",
        "outputId": "f24fde9f-6062-42b0-d8a7-bb52537d322d"
      },
      "execution_count": 5,
      "outputs": [
        {
          "output_type": "stream",
          "name": "stdout",
          "text": [
            "Archive:  /content/mnist-digit-recognizer.zip\n",
            "  inflating: train.csv               \n"
          ]
        }
      ]
    },
    {
      "cell_type": "code",
      "source": [
        "# Load the train.csv dataset\n",
        "train_data = pd.read_csv('/content/train.csv')  # Update with correct path if needed\n",
        "\n",
        "# Separate features (X) and labels (y)\n",
        "X = train_data.drop('label', axis=1)\n",
        "y = train_data['label']\n",
        "\n",
        "# Normalize pixel values to the range 0-1\n",
        "X = X / 255.0\n",
        "\n",
        "# Reshape the images into 28x28 pixel format with 1 color channel (grayscale)\n",
        "X = X.values.reshape(-1, 28, 28, 1)"
      ],
      "metadata": {
        "id": "ntYzck8zoq3T"
      },
      "execution_count": 9,
      "outputs": []
    },
    {
      "cell_type": "markdown",
      "source": [
        "# Split the Data for Training and Testing"
      ],
      "metadata": {
        "id": "T8WIC3HDqrul"
      }
    },
    {
      "cell_type": "code",
      "source": [
        "from sklearn.model_selection import train_test_split\n",
        "\n",
        "# Split the data into 80% training and 20% testing\n",
        "X_train, X_test, y_train, y_test = train_test_split(X, y, test_size=0.2, random_state=42)"
      ],
      "metadata": {
        "id": "mSDEblZipuKR"
      },
      "execution_count": 10,
      "outputs": []
    },
    {
      "cell_type": "markdown",
      "source": [
        "# Build the CNN Model"
      ],
      "metadata": {
        "id": "bCCgwrHyqx0a"
      }
    },
    {
      "cell_type": "code",
      "source": [
        "# Create a CNN model\n",
        "model = models.Sequential()\n",
        "\n",
        "# Add convolutional and pooling layers\n",
        "model.add(layers.Conv2D(32, (3, 3), activation='relu', input_shape=(28, 28, 1)))\n",
        "model.add(layers.MaxPooling2D((2, 2)))\n",
        "model.add(layers.Conv2D(64, (3, 3), activation='relu'))\n",
        "model.add(layers.MaxPooling2D((2, 2)))\n",
        "model.add(layers.Conv2D(64, (3, 3), activation='relu'))\n",
        "\n",
        "# Add fully connected layers\n",
        "model.add(layers.Flatten())\n",
        "model.add(layers.Dense(64, activation='relu'))\n",
        "model.add(layers.Dense(10, activation='softmax'))  # Output layer for 10 classes (digits 0-9)\n",
        "\n",
        "# Compile the model\n",
        "model.compile(optimizer='adam',\n",
        "              loss='sparse_categorical_crossentropy',\n",
        "              metrics=['accuracy'])\n"
      ],
      "metadata": {
        "colab": {
          "base_uri": "https://localhost:8080/"
        },
        "id": "z4wFq2YMqxrT",
        "outputId": "14883b89-4f31-43f8-f7d1-5552a12ca0b7"
      },
      "execution_count": 11,
      "outputs": [
        {
          "output_type": "stream",
          "name": "stderr",
          "text": [
            "/usr/local/lib/python3.10/dist-packages/keras/src/layers/convolutional/base_conv.py:107: UserWarning: Do not pass an `input_shape`/`input_dim` argument to a layer. When using Sequential models, prefer using an `Input(shape)` object as the first layer in the model instead.\n",
            "  super().__init__(activity_regularizer=activity_regularizer, **kwargs)\n"
          ]
        }
      ]
    },
    {
      "cell_type": "markdown",
      "source": [
        "# Train the Model"
      ],
      "metadata": {
        "id": "0VZB0GBRqxjO"
      }
    },
    {
      "cell_type": "code",
      "source": [
        "# Train the model\n",
        "history = model.fit(X_train, y_train, epochs=10, validation_split=0.1)"
      ],
      "metadata": {
        "colab": {
          "base_uri": "https://localhost:8080/"
        },
        "id": "xhzU-CGTqxba",
        "outputId": "51065abb-b3dc-45e2-cbcb-228812874c2e"
      },
      "execution_count": 12,
      "outputs": [
        {
          "output_type": "stream",
          "name": "stdout",
          "text": [
            "Epoch 1/10\n",
            "\u001b[1m945/945\u001b[0m \u001b[32m━━━━━━━━━━━━━━━━━━━━\u001b[0m\u001b[37m\u001b[0m \u001b[1m8s\u001b[0m 3ms/step - accuracy: 0.8413 - loss: 0.5101 - val_accuracy: 0.9801 - val_loss: 0.0723\n",
            "Epoch 2/10\n",
            "\u001b[1m945/945\u001b[0m \u001b[32m━━━━━━━━━━━━━━━━━━━━\u001b[0m\u001b[37m\u001b[0m \u001b[1m2s\u001b[0m 2ms/step - accuracy: 0.9767 - loss: 0.0690 - val_accuracy: 0.9884 - val_loss: 0.0479\n",
            "Epoch 3/10\n",
            "\u001b[1m945/945\u001b[0m \u001b[32m━━━━━━━━━━━━━━━━━━━━\u001b[0m\u001b[37m\u001b[0m \u001b[1m3s\u001b[0m 3ms/step - accuracy: 0.9864 - loss: 0.0443 - val_accuracy: 0.9824 - val_loss: 0.0533\n",
            "Epoch 4/10\n",
            "\u001b[1m945/945\u001b[0m \u001b[32m━━━━━━━━━━━━━━━━━━━━\u001b[0m\u001b[37m\u001b[0m \u001b[1m5s\u001b[0m 3ms/step - accuracy: 0.9883 - loss: 0.0339 - val_accuracy: 0.9833 - val_loss: 0.0470\n",
            "Epoch 5/10\n",
            "\u001b[1m945/945\u001b[0m \u001b[32m━━━━━━━━━━━━━━━━━━━━\u001b[0m\u001b[37m\u001b[0m \u001b[1m3s\u001b[0m 3ms/step - accuracy: 0.9909 - loss: 0.0279 - val_accuracy: 0.9857 - val_loss: 0.0426\n",
            "Epoch 6/10\n",
            "\u001b[1m945/945\u001b[0m \u001b[32m━━━━━━━━━━━━━━━━━━━━\u001b[0m\u001b[37m\u001b[0m \u001b[1m2s\u001b[0m 2ms/step - accuracy: 0.9930 - loss: 0.0215 - val_accuracy: 0.9875 - val_loss: 0.0376\n",
            "Epoch 7/10\n",
            "\u001b[1m945/945\u001b[0m \u001b[32m━━━━━━━━━━━━━━━━━━━━\u001b[0m\u001b[37m\u001b[0m \u001b[1m3s\u001b[0m 3ms/step - accuracy: 0.9946 - loss: 0.0181 - val_accuracy: 0.9842 - val_loss: 0.0655\n",
            "Epoch 8/10\n",
            "\u001b[1m945/945\u001b[0m \u001b[32m━━━━━━━━━━━━━━━━━━━━\u001b[0m\u001b[37m\u001b[0m \u001b[1m4s\u001b[0m 3ms/step - accuracy: 0.9956 - loss: 0.0134 - val_accuracy: 0.9860 - val_loss: 0.0483\n",
            "Epoch 9/10\n",
            "\u001b[1m945/945\u001b[0m \u001b[32m━━━━━━━━━━━━━━━━━━━━\u001b[0m\u001b[37m\u001b[0m \u001b[1m5s\u001b[0m 3ms/step - accuracy: 0.9957 - loss: 0.0135 - val_accuracy: 0.9899 - val_loss: 0.0437\n",
            "Epoch 10/10\n",
            "\u001b[1m945/945\u001b[0m \u001b[32m━━━━━━━━━━━━━━━━━━━━\u001b[0m\u001b[37m\u001b[0m \u001b[1m6s\u001b[0m 4ms/step - accuracy: 0.9971 - loss: 0.0104 - val_accuracy: 0.9833 - val_loss: 0.0603\n"
          ]
        }
      ]
    },
    {
      "cell_type": "markdown",
      "source": [
        "# Evaluate and Visualize Predictions"
      ],
      "metadata": {
        "id": "Xhxy92iNqxTm"
      }
    },
    {
      "cell_type": "code",
      "source": [
        "# Evaluate the model on the test set\n",
        "test_loss, test_acc = model.evaluate(X_test, y_test, verbose=2)\n",
        "print(f\"Test accuracy: {test_acc}\")\n",
        "\n",
        "# Make predictions on the test set\n",
        "predictions = model.predict(X_test)\n",
        "predicted_labels = np.argmax(predictions, axis=1)  # Get the predicted digit labels"
      ],
      "metadata": {
        "colab": {
          "base_uri": "https://localhost:8080/"
        },
        "id": "wiXJfBWYqxLh",
        "outputId": "5dbbc296-1c1c-4ad6-867e-1bb23169a82e"
      },
      "execution_count": 13,
      "outputs": [
        {
          "output_type": "stream",
          "name": "stdout",
          "text": [
            "263/263 - 1s - 5ms/step - accuracy: 0.9861 - loss: 0.0516\n",
            "Test accuracy: 0.9860714077949524\n",
            "\u001b[1m263/263\u001b[0m \u001b[32m━━━━━━━━━━━━━━━━━━━━\u001b[0m\u001b[37m\u001b[0m \u001b[1m1s\u001b[0m 2ms/step\n"
          ]
        }
      ]
    },
    {
      "cell_type": "markdown",
      "source": [
        "# Visualize the Predictions"
      ],
      "metadata": {
        "id": "gtj_0TZNqxD-"
      }
    },
    {
      "cell_type": "code",
      "source": [
        "# Function to plot images with their predicted labels\n",
        "def plot_images(images, labels, predictions=None):\n",
        "    plt.figure(figsize=(10,10))\n",
        "    for i in range(16):  # Show 16 images\n",
        "        plt.subplot(4, 4, i + 1)\n",
        "        plt.imshow(images[i].reshape(28, 28), cmap='gray')\n",
        "        title = f\"Pred: {predictions[i]}\" if predictions is not None else \"\"\n",
        "        plt.title(title)\n",
        "        plt.axis('off')\n",
        "    plt.show()\n",
        "\n",
        "# Visualize the first 16 test images and their predicted labels\n",
        "plot_images(X_test[:16], y_test[:16], predicted_labels[:16])"
      ],
      "metadata": {
        "colab": {
          "base_uri": "https://localhost:8080/",
          "height": 829
        },
        "id": "cYrclVrkqw75",
        "outputId": "ce81f312-8f44-43b1-9375-a7c7136c385b"
      },
      "execution_count": 16,
      "outputs": [
        {
          "output_type": "display_data",
          "data": {
            "text/plain": [
              "<Figure size 1000x1000 with 16 Axes>"
            ],
            "image/png": "[encoded data removed]"
          },
          "metadata": {}
        }
      ]
    }
  ]
}